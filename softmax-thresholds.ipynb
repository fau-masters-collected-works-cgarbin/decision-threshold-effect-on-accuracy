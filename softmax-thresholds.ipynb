{
 "cells": [
  {
   "cell_type": "markdown",
   "metadata": {},
   "source": [
    "# TODO: \n",
    "## README\n",
    "\n",
    "# Effect of threshold in model accuracy\n",
    "\n",
    "This notebook shows the effect of choosing thresholds for the softmax layer in classification problems.\n",
    "\n",
    "Model accuracy is usually reported as:\n",
    "\n",
    "```text\n",
    "     Number of correct predictions on the test set\n",
    "   -------------------------------------------------\n",
    "       Total number of instances in the test set\n",
    "```\n",
    "\n",
    "But how do we determine what a \"correct prediction\" is?\n",
    "\n",
    "The usual approach is to choose the label that has the maximum predicted probability:\n",
    "\n",
    "```python\n",
    "    predicted_probability = model.predict(ds_test)\n",
    "    predicted_label = np.argmax(predicted_probability, axis=1)\n",
    "```\n",
    "\n",
    "However, this method glosses over two important factor:\n",
    "\n",
    "1. Two or more classes may have very close predicted probabilities.\n",
    "1. Some applications require the model to be \n",
    "\n",
    "To address both items we need to use thresholds to decide when a prediction is correct. For example, in high-stakes applications, we may require the model to be at least 90% certain of a prediction to accept it as correct.\n",
    "\n",
    "Using the MNIST dataset, we will investigate the effect of settings thresholds for predictions on the accuracy of models.\n",
    "\n",
    "Sources:\n",
    "\n",
    "- [Tensorflow MNIST example](https://www.tensorflow.org/datasets/keras_example)\n",
    "- [Keras MNIST example](https://keras.io/examples/vision/mnist_convnet/)\n",
    "- [Multi-label vs. Multi-class Classification: Sigmoid vs. Softmax](https://glassboxmedicine.com/2019/05/26/classification-sigmoid-vs-softmax/)\n",
    "- [Interpreting logits: sigmoid vs softmax](https://web.stanford.edu/~nanbhas/blog/sigmoid-softmax.html)"
   ]
  },
  {
   "cell_type": "code",
   "execution_count": 1,
   "metadata": {},
   "outputs": [],
   "source": [
    "import random\n",
    "import numpy as np\n",
    "import tensorflow as tf\n",
    "import tensorflow_datasets as tfds\n",
    "import matplotlib.pyplot as plt\n",
    "import draw_digits as d\n",
    "%matplotlib inline"
   ]
  },
  {
   "cell_type": "markdown",
   "metadata": {},
   "source": [
    "To increase reproducibility (but still not guaranteed to get exactly the same results because of parallelism and GPU usages).\n",
    "\n",
    "References:\n",
    "\n",
    "- [Stackoverflow](https://stackoverflow.com/a/53760258)\n",
    "- [Tensorflow `set_seed`](https://www.tensorflow.org/api_docs/python/tf/random/set_seed)"
   ]
  },
  {
   "cell_type": "code",
   "execution_count": 2,
   "metadata": {},
   "outputs": [],
   "source": [
    "SEED=1234\n",
    "random.seed(SEED)\n",
    "np.random.seed(SEED)\n",
    "tf.random.set_seed(SEED)"
   ]
  },
  {
   "cell_type": "markdown",
   "metadata": {},
   "source": [
    "## Load MNIST and create the training/test pipelines\n",
    "\n",
    "The code in this section is from the [TensorFlow MNIST example](https://www.tensorflow.org/datasets/keras_example)."
   ]
  },
  {
   "cell_type": "markdown",
   "metadata": {},
   "source": [
    "Load MNIST."
   ]
  },
  {
   "cell_type": "code",
   "execution_count": 3,
   "metadata": {},
   "outputs": [],
   "source": [
    "(ds_train, ds_test), ds_info = tfds.load(\n",
    "    'mnist',\n",
    "    split=['train', 'test'],\n",
    "    shuffle_files=True,\n",
    "    as_supervised=True,\n",
    "    with_info=True,\n",
    ")"
   ]
  },
  {
   "cell_type": "markdown",
   "metadata": {},
   "source": [
    "Build training pipeline."
   ]
  },
  {
   "cell_type": "code",
   "execution_count": 4,
   "metadata": {},
   "outputs": [],
   "source": [
    "def normalize_img(image, label):\n",
    "  \"\"\"Normalizes images: `uint8` -> `float32`.\"\"\"\n",
    "  return tf.cast(image, tf.float32) / 255., label\n",
    "\n",
    "ds_train = ds_train.map(\n",
    "    normalize_img, num_parallel_calls=tf.data.experimental.AUTOTUNE)\n",
    "ds_train = ds_train.cache()\n",
    "ds_train = ds_train.shuffle(ds_info.splits['train'].num_examples)\n",
    "ds_train = ds_train.batch(128)\n",
    "ds_train = ds_train.prefetch(tf.data.experimental.AUTOTUNE)"
   ]
  },
  {
   "cell_type": "markdown",
   "metadata": {},
   "source": [
    "Build test pipeline."
   ]
  },
  {
   "cell_type": "code",
   "execution_count": 5,
   "metadata": {},
   "outputs": [],
   "source": [
    "ds_test = ds_test.map(\n",
    "    normalize_img, num_parallel_calls=tf.data.experimental.AUTOTUNE)\n",
    "ds_test = ds_test.batch(128)\n",
    "ds_test = ds_test.cache()\n",
    "ds_test = ds_test.prefetch(tf.data.experimental.AUTOTUNE)"
   ]
  },
  {
   "cell_type": "markdown",
   "metadata": {},
   "source": [
    "## Train a model\n",
    "\n",
    "The model is a simple network that can achieve about 98-99% accuracy in a few minutes of training.\n",
    "\n",
    "This accuracy is enough for the experiments. We are interested in the effect of using different thresholds with softmax, not on very high accuracy for the model."
   ]
  },
  {
   "cell_type": "code",
   "execution_count": 6,
   "metadata": {},
   "outputs": [],
   "source": [
    "NUM_CLASSES = 10\n",
    "INPUT_SHAPE = (28, 28,1)\n",
    "ACTIVATION='relu'"
   ]
  },
  {
   "cell_type": "code",
   "execution_count": 7,
   "metadata": {},
   "outputs": [],
   "source": [
    "# Based on https://keras.io/examples/vision/mnist_convnet/\n",
    "model = tf.keras.Sequential([\n",
    "    tf.keras.Input(shape=INPUT_SHAPE),\n",
    "    tf.keras.layers.Conv2D(32, kernel_size=(3, 3), activation=ACTIVATION),\n",
    "    tf.keras.layers.MaxPooling2D(pool_size=(2, 2)),\n",
    "    tf.keras.layers.Conv2D(64, kernel_size=(3, 3), activation=ACTIVATION),\n",
    "    tf.keras.layers.MaxPooling2D(pool_size=(2, 2)),\n",
    "    tf.keras.layers.Flatten(),\n",
    "    tf.keras.layers.Dropout(0.25),\n",
    "    tf.keras.layers.Dense(NUM_CLASSES, activation=\"softmax\"),\n",
    "])\n",
    "\n",
    "model.compile(\n",
    "    optimizer=tf.keras.optimizers.RMSprop(),\n",
    "    loss=tf.keras.losses.SparseCategoricalCrossentropy(),\n",
    "    metrics=[tf.keras.metrics.SparseCategoricalAccuracy()],\n",
    ")"
   ]
  },
  {
   "cell_type": "markdown",
   "metadata": {},
   "source": [
    "Train the model using early stopping to get a decent model without investing too much time in training. The main purpose of this notebook is not to get high accuracy. It's to demonstrate the effect of choosing thresholds for predictions."
   ]
  },
  {
   "cell_type": "code",
   "execution_count": 8,
   "metadata": {},
   "outputs": [
    {
     "name": "stdout",
     "output_type": "stream",
     "text": [
      "Epoch 1/5\n",
      "469/469 [==============================] - 27s 53ms/step - loss: 0.5669 - sparse_categorical_accuracy: 0.8306 - val_loss: 0.0719 - val_sparse_categorical_accuracy: 0.9776\n",
      "Epoch 2/5\n",
      "469/469 [==============================] - 23s 49ms/step - loss: 0.0910 - sparse_categorical_accuracy: 0.9720 - val_loss: 0.0484 - val_sparse_categorical_accuracy: 0.9853\n",
      "Epoch 3/5\n",
      "469/469 [==============================] - 24s 51ms/step - loss: 0.0651 - sparse_categorical_accuracy: 0.9802 - val_loss: 0.0382 - val_sparse_categorical_accuracy: 0.9871\n",
      "Epoch 4/5\n",
      "469/469 [==============================] - 25s 53ms/step - loss: 0.0520 - sparse_categorical_accuracy: 0.9843 - val_loss: 0.0347 - val_sparse_categorical_accuracy: 0.9886\n",
      "Epoch 5/5\n",
      "469/469 [==============================] - 24s 52ms/step - loss: 0.0451 - sparse_categorical_accuracy: 0.9861 - val_loss: 0.0327 - val_sparse_categorical_accuracy: 0.9893\n"
     ]
    },
    {
     "data": {
      "text/plain": [
       "<tensorflow.python.keras.callbacks.History at 0x7fbbd8eaca50>"
      ]
     },
     "execution_count": 8,
     "metadata": {},
     "output_type": "execute_result"
    }
   ],
   "source": [
    "callback = tf.keras.callbacks.EarlyStopping(\n",
    "    monitor='val_loss',\n",
    "    patience=2, verbose=1,\n",
    "    restore_best_weights=True)\n",
    "\n",
    "model.fit(\n",
    "    ds_train, epochs=5,\n",
    "    validation_data=ds_test,\n",
    "    callbacks=[callback]\n",
    ")"
   ]
  },
  {
   "cell_type": "markdown",
   "metadata": {},
   "source": [
    "## Analyze predictions on the test set\n",
    "\n",
    "This section shows some digits that were correctly predicted and some that were misclassified.\n",
    "\n",
    "The goal is to visually check if the model is indeed working before."
   ]
  },
  {
   "cell_type": "markdown",
   "metadata": {},
   "source": [
    "The actual labels and images \n",
    "from the test set."
   ]
  },
  {
   "cell_type": "code",
   "execution_count": 9,
   "metadata": {},
   "outputs": [],
   "source": [
    "test_label = np.concatenate([y for _, y in ds_test], axis=0)\n",
    "test_image = np.concatenate([x for x, _ in ds_test], axis=0)"
   ]
  },
  {
   "cell_type": "markdown",
   "metadata": {},
   "source": [
    "The model's predicted probabilities and labels (using the maximum predicted probability)."
   ]
  },
  {
   "cell_type": "code",
   "execution_count": 10,
   "metadata": {},
   "outputs": [],
   "source": [
    "predicted_probability = model.predict(ds_test)\n",
    "predicted_label = np.argmax(predicted_probability, axis=1)\n",
    "\n",
    "# Basic sanity checks\n",
    "assert len(test_label) == len(predicted_label)"
   ]
  },
  {
   "cell_type": "markdown",
   "metadata": {},
   "source": [
    "Visualize some digits that were predicted correclty."
   ]
  },
  {
   "cell_type": "code",
   "execution_count": 11,
   "metadata": {},
   "outputs": [
    {
     "name": "stdout",
     "output_type": "stream",
     "text": [
      "Found 9,893 correctly classified and 107 misclassified instances\n"
     ]
    }
   ],
   "source": [
    "# Get indices of all instaces correctly classified\n",
    "correct_index = [i for i in np.arange(len(predicted_label)) \n",
    "                    if predicted_label[i] == test_label[i]]\n",
    "\n",
    "# Get indices of all misclassfied instaces\n",
    "misclassified_index = [i for i in np.arange(len(predicted_label)) \n",
    "                        if predicted_label[i] != test_label[i]]\n",
    "\n",
    "# Sanity check\n",
    "assert (len(correct_index) + len(misclassified_index)) == len(test_label)\n",
    "\n",
    "print('Found {:,} correctly classified and {:,} misclassified instances'.format(\n",
    "    len(correct_index), len(misclassified_index)))"
   ]
  },
  {
   "cell_type": "markdown",
   "metadata": {},
   "source": [
    "Samples of correctly classified digits. The numbers above each digit show the digit index in the test set, the test label, and the (in this case, correct) predicted label."
   ]
  },
  {
   "cell_type": "code",
   "execution_count": 12,
   "metadata": {},
   "outputs": [
    {
     "data": {
      "image/png": "[encoded data removed]",
      "text/plain": [
       "<Figure size 576x576 with 10 Axes>"
      ]
     },
     "metadata": {
      "needs_background": "light"
     },
     "output_type": "display_data"
    }
   ],
   "source": [
    "d.draw_digits(correct_index[:10], test_label, predicted_label, test_image)"
   ]
  },
  {
   "cell_type": "markdown",
   "metadata": {},
   "source": [
    "Samples of misclassified digits. The correct and predicted labels are shown above each digit (correct/predicted)."
   ]
  },
  {
   "cell_type": "code",
   "execution_count": 13,
   "metadata": {},
   "outputs": [
    {
     "data": {
      "image/png": "[encoded data removed]",
      "text/plain": [
       "<Figure size 576x576 with 10 Axes>"
      ]
     },
     "metadata": {
      "needs_background": "light"
     },
     "output_type": "display_data"
    }
   ],
   "source": [
    "d.draw_digits(misclassified_index[:10], test_label, predicted_label, test_image)"
   ]
  },
  {
   "cell_type": "markdown",
   "metadata": {},
   "source": [
    "## Correctly classified, by a large margin\n",
    "\n",
    "When choosing a class, we have so far simply asked for the maximum probability:\n",
    "\n",
    "`predicted_label = np.argmax(predicted_probability, axis=1)`\n",
    "\n",
    "For example, here are the probabilities for one of the digits in the test set:"
   ]
  },
  {
   "cell_type": "code",
   "execution_count": 14,
   "metadata": {},
   "outputs": [
    {
     "name": "stdout",
     "output_type": "stream",
     "text": [
      "[9.9995089e-01 1.2055264e-16 4.9152851e-07 1.3127139e-12 2.0784842e-14\n",
      " 3.6552248e-07 4.5794357e-05 1.1943105e-11 2.4502172e-06 5.4383616e-08]\n"
     ]
    }
   ],
   "source": [
    "SAMPLE_DIGIT = 1\n",
    "print(predicted_probability[SAMPLE_DIGIT])"
   ]
  },
  {
   "cell_type": "markdown",
   "metadata": {},
   "source": [
    "And here is what `argmax` returns:"
   ]
  },
  {
   "cell_type": "code",
   "execution_count": 15,
   "metadata": {},
   "outputs": [
    {
     "name": "stdout",
     "output_type": "stream",
     "text": [
      "Model predicted digit 0\n"
     ]
    }
   ],
   "source": [
    "print('Model predicted digit {}'.format(\n",
    "    np.argmax(predicted_probability[SAMPLE_DIGIT])))"
   ]
  },
  {
   "cell_type": "markdown",
   "metadata": {},
   "source": [
    "Here is the image, showing that it was indeed a correct prediction."
   ]
  },
  {
   "cell_type": "code",
   "execution_count": 16,
   "metadata": {},
   "outputs": [
    {
     "data": {
      "image/png": "[encoded data removed]",
      "text/plain": [
       "<Figure size 72x72 with 1 Axes>"
      ]
     },
     "metadata": {
      "needs_background": "light"
     },
     "output_type": "display_data"
    }
   ],
   "source": [
    "_, ax = plt.subplots(figsize=(1, 1))\n",
    "ax.imshow(test_image[SAMPLE_DIGIT], cmap=plt.get_cmap('Greys'))\n",
    "plt.axis('off');"
   ]
  },
  {
   "cell_type": "markdown",
   "metadata": {},
   "source": [
    "In this case, the model is certain that this is the correct digit by orders of magnitude.\n",
    "\n",
    "Here are the probabilities again. Compare the probability for the index that matches the prediction in the array with the probabilities for the other indices."
   ]
  },
  {
   "cell_type": "code",
   "execution_count": 17,
   "metadata": {},
   "outputs": [
    {
     "name": "stdout",
     "output_type": "stream",
     "text": [
      "[9.9995089e-01 1.2055264e-16 4.9152851e-07 1.3127139e-12 2.0784842e-14\n",
      " 3.6552248e-07 4.5794357e-05 1.1943105e-11 2.4502172e-06 5.4383616e-08]\n"
     ]
    }
   ],
   "source": [
    "print(predicted_probability[SAMPLE_DIGIT])"
   ]
  },
  {
   "cell_type": "markdown",
   "metadata": {},
   "source": [
    "## Correctly classified, by a slimmer margin\n",
    "\n",
    "But we also have cases where the \"winning\" prediction does not have such a large margin.\n",
    "\n",
    "In this section we will review some correct classifications whose largest probability was not above 50%. This indicates that the model was not certain about the prediction."
   ]
  },
  {
   "cell_type": "markdown",
   "metadata": {},
   "source": [
    "Find the digits that have been predicted with less than 50% confidence."
   ]
  },
  {
   "cell_type": "code",
   "execution_count": 18,
   "metadata": {},
   "outputs": [],
   "source": [
    "THRESHOLD = 0.5\n",
    "\n",
    "max_predicted_probabiliy = np.max(predicted_probability, axis=1)\n",
    "\n",
    "probability_le_threshold = [i for i in correct_index if\n",
    "                            max_predicted_probabiliy[i] <= THRESHOLD]\n",
    "probability_gt_threshold = [i for i in correct_index if\n",
    "                            max_predicted_probabiliy[i] > THRESHOLD]\n",
    "\n",
    "# A few sanity checks\n",
    "num_le_threshold = len(probability_le_threshold)\n",
    "num_gt_threshold = len(probability_gt_threshold)\n",
    "assert (num_le_threshold + num_gt_threshold) == len(correct_index)\n"
   ]
  },
  {
   "cell_type": "markdown",
   "metadata": {},
   "source": [
    "Show some statistics."
   ]
  },
  {
   "cell_type": "code",
   "execution_count": 19,
   "metadata": {},
   "outputs": [
    {
     "name": "stdout",
     "output_type": "stream",
     "text": [
      "Out of 9,893 correctly classified digit, for the 50% threshold:\n",
      "  9,878 digits are above the threshold\n",
      "  15 are at or below the threshold\n"
     ]
    }
   ],
   "source": [
    "num_correct_predicted = len(correct_index)\n",
    "print('Out of {:,} correctly classified digit, for the {:.0%} threshold:'.format(\n",
    "    num_correct_predicted, THRESHOLD))\n",
    "print('  {:,} digits are above the threshold'.format(num_gt_threshold))\n",
    "print('  {:,} are at or below the threshold'.format(num_le_threshold))"
   ]
  },
  {
   "cell_type": "markdown",
   "metadata": {},
   "source": [
    "Visualize the probabilities the model predicted."
   ]
  },
  {
   "cell_type": "code",
   "execution_count": 20,
   "metadata": {},
   "outputs": [
    {
     "data": {
      "image/png": "[encoded data removed]",
      "text/plain": [
       "<Figure size 864x432 with 40 Axes>"
      ]
     },
     "metadata": {
      "needs_background": "light"
     },
     "output_type": "display_data"
    }
   ],
   "source": [
    "d.draw_digits_histogram(probability_le_threshold[:100],\n",
    "    test_label, predicted_label, test_image, predicted_probability)"
   ]
  },
  {
   "cell_type": "markdown",
   "metadata": {},
   "source": [
    "## Effect of different thresholds on the model accuracy\n",
    "\n",
    "In some applications we must have a high confidence on the predictions from the model. For example, if we are reading digits from a check of process automatic deposits (or withdrawals), we want to be confident that we are processing the right amounts.\n",
    "\n",
    "In this section we will see the effect in the model accuracy when we use different thresholds to decide what a \"correct\" prediction is.\n",
    "\n",
    "First, the accuracy of the model using the maximum probability, the method we should assume is being used, unless we are explicitly told what method was used."
   ]
  },
  {
   "cell_type": "code",
   "execution_count": 21,
   "metadata": {},
   "outputs": [
    {
     "name": "stdout",
     "output_type": "stream",
     "text": [
      "Model accuracy with maximum probability: 98.93%\n"
     ]
    }
   ],
   "source": [
    "num_test_digits = len(test_label)\n",
    "num_correct_max_prob = num_correct_predicted\n",
    "\n",
    "print('Model accuracy with maximum probability: {:.2%}'.format(\n",
    "    num_correct_max_prob/num_test_digits))"
   ]
  },
  {
   "cell_type": "markdown",
   "metadata": {},
   "source": [
    "Now, the effect of setting different thresholds."
   ]
  },
  {
   "cell_type": "code",
   "execution_count": 22,
   "metadata": {},
   "outputs": [
    {
     "name": "stdout",
     "output_type": "stream",
     "text": [
      "Model accuracy with threshold 99.99%: 50.26%\n",
      "Model accuracy with threshold 99.90%: 76.18%\n",
      "Model accuracy with threshold 99.00%: 90.22%\n",
      "Model accuracy with threshold 95.00%: 95.10%\n",
      "Model accuracy with threshold 90.00%: 96.51%\n",
      "Model accuracy with threshold 80.00%: 97.65%\n",
      "Model accuracy with threshold 75.00%: 97.98%\n",
      "Model accuracy with threshold 67.00%: 98.29%\n",
      "Model accuracy with threshold 50.00%: 98.78%\n"
     ]
    }
   ],
   "source": [
    "def show_accuracy(threshold):\n",
    "    # Calculate number of correct predictions that are below the threshold\n",
    "    lt_threshold = [i for i in correct_index if\n",
    "                        max_predicted_probabiliy[i] < threshold]\n",
    "    # Deduct from the correct predictions that used max probability\n",
    "    correct_with_threshold = num_correct_max_prob - len(lt_threshold)\n",
    "    print('Model accuracy with threshold {:.2%}: {:.2%}'.format(\n",
    "        threshold, correct_with_threshold/num_test_digits))\n",
    "\n",
    "for threshold in [0.9999, 0.999, 0.99, 0.95, 0.9, 0.8, 0.75, 0.67, 0.5]:\n",
    "    show_accuracy(threshold)"
   ]
  },
  {
   "cell_type": "markdown",
   "metadata": {},
   "source": [
    "From these numbers we can see that if we want to be very confident (threshold = 99.99%), the accuracy of the model drops significantly.\n",
    "\n",
    "As we lower the threshold of what we accept as \"correct\", the accuracy creeps back up.\n",
    "\n",
    "This shows the importance of defining what we consider to be a confident prediction. This value, the minimum confidence level we accept, varies by application.\n",
    "\n",
    "Thus, when we see the a claim of accuracy for a model, we must ask:\n",
    "\n",
    "- How was it calculated?\n",
    "- What is the accuracy of the model for the confidence level I need for my application?"
   ]
  }
 ],
 "metadata": {
  "kernelspec": {
   "display_name": "Python 3",
   "language": "python",
   "name": "python3"
  },
  "language_info": {
   "codemirror_mode": {
    "name": "ipython",
    "version": 3
   },
   "file_extension": ".py",
   "mimetype": "text/x-python",
   "name": "python",
   "nbconvert_exporter": "python",
   "pygments_lexer": "ipython3",
   "version": "3.7.7"
  }
 },
 "nbformat": 4,
 "nbformat_minor": 4
}
